{
 "cells": [
  {
   "cell_type": "code",
   "execution_count": 1,
   "metadata": {},
   "outputs": [],
   "source": [
    "import pandas as pd "
   ]
  },
  {
   "cell_type": "code",
   "execution_count": 3,
   "metadata": {},
   "outputs": [],
   "source": [
    "df = pd.read_excel('Notas_2025_01.xlsx', sheet_name=None)\n",
    "df1 = df['Precálculo']"
   ]
  },
  {
   "cell_type": "code",
   "execution_count": 4,
   "metadata": {},
   "outputs": [],
   "source": [
    "df1 = df['Estructura de datos']"
   ]
  },
  {
   "cell_type": "code",
   "execution_count": 5,
   "metadata": {},
   "outputs": [
    {
     "data": {
      "text/plain": [
       "0           hudy.barrera@est.uexternado.edu.co\n",
       "1          tania.barrera@est.uexternado.edu.co\n",
       "2           david.brinez@est.uexternado.edu.co\n",
       "3       juan.bustamante2@est.uexternado.edu.co\n",
       "4           luis.camacho@est.uexternado.edu.co\n",
       "5         johan.camacho1@est.uexternado.edu.co\n",
       "6        santiago.chaves@est.uexternado.edu.co\n",
       "7         maria.cortes28@est.uexternado.edu.co\n",
       "8         nicolas.corzo1@est.uexternado.edu.co\n",
       "9        andres.escobar2@est.uexternado.edu.co\n",
       "10      nicolas.figueroa@est.uexternado.edu.co\n",
       "11    santiago.granados1@est.uexternado.edu.co\n",
       "12         eilyn.herrera@est.uexternado.edu.co\n",
       "13          sara.infante@est.uexternado.edu.co\n",
       "14           diego.jojoa@est.uexternado.edu.co\n",
       "15           juan.julio1@est.uexternado.edu.co\n",
       "16        allison.loango@est.uexternado.edu.co\n",
       "17          angie.loango@est.uexternado.edu.co\n",
       "18        suleily.moreno@est.uexternado.edu.co\n",
       "19        rafael.orozco1@est.uexternado.edu.co\n",
       "20          miguel.porto@est.uexternado.edu.co\n",
       "21         felipe.pulido@est.uexternado.edu.co\n",
       "22         natalia.rios1@est.uexternado.edu.co\n",
       "23       samuel.sanchez2@est.uexternado.edu.co\n",
       "24          juan.sierra9@est.uexternado.edu.co\n",
       "25          jorge.zainea@est.uexternado.edu.co\n",
       "Name: Correo, dtype: object"
      ]
     },
     "execution_count": 5,
     "metadata": {},
     "output_type": "execute_result"
    },
    {
     "name": "stderr",
     "output_type": "stream",
     "text": [
      "Bad pipe message: %s [b'0.9,image/avif,image/webp,image/apng,*/*;q=0.8,application/signed-exchange;v=b3;q=0.7\\r\\nHost: localhost:32823\\r\\nUs', b'-Agent: Mozilla/5.0 (Windows NT 10.0; Win64; x64) AppleWebKit/537.36 (KHTML, like Gecko) Chrome/132.']\n",
      "Bad pipe message: %s [b'0.0 Safari/537.36\\r\\nAccept-Encoding: gzip, defla']\n",
      "Bad pipe message: %s [b', br, zstd\\r\\nAccept-Language: es,en-US;q=0.9,en;q=0.8\\r\\nCache-Control: max-age=0\\r\\nReferer: https://improved-guide-v6g', b'556r6x93wwjr.github.dev/\\r\\nX-Request-ID: 3076b757f04fe88f20a0b77d945e7337\\r\\nX-Real-IP: 10.240.2.99\\r\\nX-Forwarded-Port: 4', b'\\r\\nX-Forwarded-Scheme: https\\r\\nX-Original-URI: /\\r\\nX-S', b'eme: https\\r\\nsec-fetch-site: same-site\\r\\nsec-fetch-mode: navigate\\r\\nsec-fetch-dest: document\\r\\nsec-ch-']\n"
     ]
    }
   ],
   "source": [
    "df1['Correo']"
   ]
  },
  {
   "cell_type": "code",
   "execution_count": null,
   "metadata": {},
   "outputs": [],
   "source": [
    "df1['Correo'].str.contains('daira', case=False)"
   ]
  },
  {
   "cell_type": "code",
   "execution_count": 17,
   "metadata": {},
   "outputs": [
    {
     "name": "stdout",
     "output_type": "stream",
     "text": [
      "<class 'pandas.core.frame.DataFrame'>\n",
      "RangeIndex: 23 entries, 0 to 22\n",
      "Data columns (total 7 columns):\n",
      " #   Column         Non-Null Count  Dtype  \n",
      "---  ------         --------------  -----  \n",
      " 0   Nro            20 non-null     float64\n",
      " 1   Nro.Documento  20 non-null     float64\n",
      " 2   Apellido       23 non-null     object \n",
      " 3   Nombres        23 non-null     object \n",
      " 4   Correo         23 non-null     object \n",
      " 5   Q1             19 non-null     float64\n",
      " 6   Q2             22 non-null     float64\n",
      "dtypes: float64(4), object(3)\n",
      "memory usage: 1.4+ KB\n"
     ]
    }
   ],
   "source": [
    "df1.info()"
   ]
  },
  {
   "cell_type": "code",
   "execution_count": 24,
   "metadata": {},
   "outputs": [
    {
     "data": {
      "text/html": [
       "<div>\n",
       "<style scoped>\n",
       "    .dataframe tbody tr th:only-of-type {\n",
       "        vertical-align: middle;\n",
       "    }\n",
       "\n",
       "    .dataframe tbody tr th {\n",
       "        vertical-align: top;\n",
       "    }\n",
       "\n",
       "    .dataframe thead th {\n",
       "        text-align: right;\n",
       "    }\n",
       "</style>\n",
       "<table border=\"1\" class=\"dataframe\">\n",
       "  <thead>\n",
       "    <tr style=\"text-align: right;\">\n",
       "      <th></th>\n",
       "      <th>Nro</th>\n",
       "      <th>Nro.Documento</th>\n",
       "      <th>Apellido</th>\n",
       "      <th>Nombres</th>\n",
       "      <th>Correo</th>\n",
       "      <th>Q1</th>\n",
       "      <th>Q2</th>\n",
       "    </tr>\n",
       "  </thead>\n",
       "  <tbody>\n",
       "    <tr>\n",
       "      <th>0</th>\n",
       "      <td>1.0</td>\n",
       "      <td>1.013266e+09</td>\n",
       "      <td>CAMPOS VASQUEZ</td>\n",
       "      <td>DAIRA JULIETH</td>\n",
       "      <td>daira.campos@est.uexternado.edu.co</td>\n",
       "      <td>5.0</td>\n",
       "      <td>3.8</td>\n",
       "    </tr>\n",
       "  </tbody>\n",
       "</table>\n",
       "</div>"
      ],
      "text/plain": [
       "   Nro  Nro.Documento        Apellido         Nombres  \\\n",
       "0  1.0   1.013266e+09  CAMPOS VASQUEZ   DAIRA JULIETH   \n",
       "\n",
       "                               Correo   Q1   Q2  \n",
       "0  daira.campos@est.uexternado.edu.co  5.0  3.8  "
      ]
     },
     "execution_count": 24,
     "metadata": {},
     "output_type": "execute_result"
    }
   ],
   "source": [
    "email = 'daira.campos'\n",
    "student_id = 1013266387\n",
    "df1[(df1[\"Correo\"].str.contains(email)) & (df1[\"Nro.Documento\"] == int(student_id))]"
   ]
  }
 ],
 "metadata": {
  "kernelspec": {
   "display_name": "Python 3",
   "language": "python",
   "name": "python3"
  },
  "language_info": {
   "codemirror_mode": {
    "name": "ipython",
    "version": 3
   },
   "file_extension": ".py",
   "mimetype": "text/x-python",
   "name": "python",
   "nbconvert_exporter": "python",
   "pygments_lexer": "ipython3",
   "version": "3.11.11"
  }
 },
 "nbformat": 4,
 "nbformat_minor": 2
}
