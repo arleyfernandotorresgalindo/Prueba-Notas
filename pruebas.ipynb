{
 "cells": [
  {
   "cell_type": "code",
   "execution_count": 1,
   "metadata": {},
   "outputs": [],
   "source": [
    "import pandas as pd "
   ]
  },
  {
   "cell_type": "code",
   "execution_count": 3,
   "metadata": {},
   "outputs": [],
   "source": [
    "df = pd.read_excel('Notas_2025_01.xlsx', sheet_name=None)\n",
    "df1 = df['Precálculo']"
   ]
  },
  {
   "cell_type": "code",
   "execution_count": null,
   "metadata": {},
   "outputs": [],
   "source": [
    "df1['Correo'].str.contains('daira', case=False)"
   ]
  },
  {
   "cell_type": "code",
   "execution_count": 17,
   "metadata": {},
   "outputs": [
    {
     "name": "stdout",
     "output_type": "stream",
     "text": [
      "<class 'pandas.core.frame.DataFrame'>\n",
      "RangeIndex: 23 entries, 0 to 22\n",
      "Data columns (total 7 columns):\n",
      " #   Column         Non-Null Count  Dtype  \n",
      "---  ------         --------------  -----  \n",
      " 0   Nro            20 non-null     float64\n",
      " 1   Nro.Documento  20 non-null     float64\n",
      " 2   Apellido       23 non-null     object \n",
      " 3   Nombres        23 non-null     object \n",
      " 4   Correo         23 non-null     object \n",
      " 5   Q1             19 non-null     float64\n",
      " 6   Q2             22 non-null     float64\n",
      "dtypes: float64(4), object(3)\n",
      "memory usage: 1.4+ KB\n"
     ]
    }
   ],
   "source": [
    "df1.info()"
   ]
  },
  {
   "cell_type": "code",
   "execution_count": 24,
   "metadata": {},
   "outputs": [
    {
     "data": {
      "text/html": [
       "<div>\n",
       "<style scoped>\n",
       "    .dataframe tbody tr th:only-of-type {\n",
       "        vertical-align: middle;\n",
       "    }\n",
       "\n",
       "    .dataframe tbody tr th {\n",
       "        vertical-align: top;\n",
       "    }\n",
       "\n",
       "    .dataframe thead th {\n",
       "        text-align: right;\n",
       "    }\n",
       "</style>\n",
       "<table border=\"1\" class=\"dataframe\">\n",
       "  <thead>\n",
       "    <tr style=\"text-align: right;\">\n",
       "      <th></th>\n",
       "      <th>Nro</th>\n",
       "      <th>Nro.Documento</th>\n",
       "      <th>Apellido</th>\n",
       "      <th>Nombres</th>\n",
       "      <th>Correo</th>\n",
       "      <th>Q1</th>\n",
       "      <th>Q2</th>\n",
       "    </tr>\n",
       "  </thead>\n",
       "  <tbody>\n",
       "    <tr>\n",
       "      <th>0</th>\n",
       "      <td>1.0</td>\n",
       "      <td>1.013266e+09</td>\n",
       "      <td>CAMPOS VASQUEZ</td>\n",
       "      <td>DAIRA JULIETH</td>\n",
       "      <td>daira.campos@est.uexternado.edu.co</td>\n",
       "      <td>5.0</td>\n",
       "      <td>3.8</td>\n",
       "    </tr>\n",
       "  </tbody>\n",
       "</table>\n",
       "</div>"
      ],
      "text/plain": [
       "   Nro  Nro.Documento        Apellido         Nombres  \\\n",
       "0  1.0   1.013266e+09  CAMPOS VASQUEZ   DAIRA JULIETH   \n",
       "\n",
       "                               Correo   Q1   Q2  \n",
       "0  daira.campos@est.uexternado.edu.co  5.0  3.8  "
      ]
     },
     "execution_count": 24,
     "metadata": {},
     "output_type": "execute_result"
    }
   ],
   "source": [
    "email = 'daira.campos'\n",
    "student_id = 1013266387\n",
    "df1[(df1[\"Correo\"].str.contains(email)) & (df1[\"Nro.Documento\"] == int(student_id))]"
   ]
  }
 ],
 "metadata": {
  "kernelspec": {
   "display_name": "Python 3",
   "language": "python",
   "name": "python3"
  },
  "language_info": {
   "codemirror_mode": {
    "name": "ipython",
    "version": 3
   },
   "file_extension": ".py",
   "mimetype": "text/x-python",
   "name": "python",
   "nbconvert_exporter": "python",
   "pygments_lexer": "ipython3",
   "version": "3.11.11"
  }
 },
 "nbformat": 4,
 "nbformat_minor": 2
}
